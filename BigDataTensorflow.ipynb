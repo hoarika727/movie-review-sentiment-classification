{
 "cells": [
  {
   "cell_type": "code",
   "execution_count": 1,
   "metadata": {},
   "outputs": [
    {
     "name": "stderr",
     "output_type": "stream",
     "text": [
      "Using TensorFlow backend.\n"
     ]
    },
    {
     "name": "stdout",
     "output_type": "stream",
     "text": [
      "2.1.0\n"
     ]
    }
   ],
   "source": [
    "#from __future__ import absolute_import, division, print_function\n",
    "\n",
    "import tensorflow as tf\n",
    "from tensorflow import keras\n",
    "from keras import datasets\n",
    "\n",
    "import numpy as np\n",
    "print(tf.__version__)"
   ]
  },
  {
   "cell_type": "code",
   "execution_count": 2,
   "metadata": {},
   "outputs": [
    {
     "name": "stdout",
     "output_type": "stream",
     "text": [
      "Downloading data from https://s3.amazonaws.com/text-datasets/imdb.npz\n",
      "17465344/17464789 [==============================] - 1s 0us/step\n"
     ]
    }
   ],
   "source": [
    "imdb = datasets.imdb\n",
    "\n",
    "(train_data, train_labels), (test_data, test_labels) = imdb.load_data(num_words=10000)"
   ]
  },
  {
   "cell_type": "code",
   "execution_count": 3,
   "metadata": {},
   "outputs": [
    {
     "name": "stdout",
     "output_type": "stream",
     "text": [
      "Training entries: 25000, labels: 25000\n"
     ]
    }
   ],
   "source": [
    "print(\"Training entries: {}, labels: {}\".format(len(train_data), len(train_labels)))"
   ]
  },
  {
   "cell_type": "code",
   "execution_count": 4,
   "metadata": {},
   "outputs": [
    {
     "name": "stdout",
     "output_type": "stream",
     "text": [
      "[1, 14, 22, 16, 43, 530, 973, 1622, 1385, 65, 458, 4468, 66, 3941, 4, 173, 36, 256, 5, 25, 100, 43, 838, 112, 50, 670, 2, 9, 35, 480, 284, 5, 150, 4, 172, 112, 167, 2, 336, 385, 39, 4, 172, 4536, 1111, 17, 546, 38, 13, 447, 4, 192, 50, 16, 6, 147, 2025, 19, 14, 22, 4, 1920, 4613, 469, 4, 22, 71, 87, 12, 16, 43, 530, 38, 76, 15, 13, 1247, 4, 22, 17, 515, 17, 12, 16, 626, 18, 2, 5, 62, 386, 12, 8, 316, 8, 106, 5, 4, 2223, 5244, 16, 480, 66, 3785, 33, 4, 130, 12, 16, 38, 619, 5, 25, 124, 51, 36, 135, 48, 25, 1415, 33, 6, 22, 12, 215, 28, 77, 52, 5, 14, 407, 16, 82, 2, 8, 4, 107, 117, 5952, 15, 256, 4, 2, 7, 3766, 5, 723, 36, 71, 43, 530, 476, 26, 400, 317, 46, 7, 4, 2, 1029, 13, 104, 88, 4, 381, 15, 297, 98, 32, 2071, 56, 26, 141, 6, 194, 7486, 18, 4, 226, 22, 21, 134, 476, 26, 480, 5, 144, 30, 5535, 18, 51, 36, 28, 224, 92, 25, 104, 4, 226, 65, 16, 38, 1334, 88, 12, 16, 283, 5, 16, 4472, 113, 103, 32, 15, 16, 5345, 19, 178, 32]\n"
     ]
    }
   ],
   "source": [
    "print(train_data[0])"
   ]
  },
  {
   "cell_type": "code",
   "execution_count": 5,
   "metadata": {},
   "outputs": [
    {
     "data": {
      "text/plain": [
       "(218, 189)"
      ]
     },
     "execution_count": 5,
     "metadata": {},
     "output_type": "execute_result"
    }
   ],
   "source": [
    "len(train_data[0]), len(train_data[1])"
   ]
  },
  {
   "cell_type": "code",
   "execution_count": 6,
   "metadata": {},
   "outputs": [],
   "source": [
    "train_data = keras.preprocessing.sequence.pad_sequences(train_data,\n",
    "                                                        padding='post',\n",
    "                                                        maxlen=256)\n",
    "\n",
    "test_data = keras.preprocessing.sequence.pad_sequences(test_data,\n",
    "                                                       padding='post',\n",
    "                                                       maxlen=256)"
   ]
  },
  {
   "cell_type": "code",
   "execution_count": 7,
   "metadata": {
    "scrolled": true
   },
   "outputs": [
    {
     "data": {
      "text/plain": [
       "(256, 256)"
      ]
     },
     "execution_count": 7,
     "metadata": {},
     "output_type": "execute_result"
    }
   ],
   "source": [
    "len(train_data[0]), len(train_data[1])"
   ]
  },
  {
   "cell_type": "code",
   "execution_count": 8,
   "metadata": {},
   "outputs": [
    {
     "name": "stdout",
     "output_type": "stream",
     "text": [
      "[   1   14   22   16   43  530  973 1622 1385   65  458 4468   66 3941\n",
      "    4  173   36  256    5   25  100   43  838  112   50  670    2    9\n",
      "   35  480  284    5  150    4  172  112  167    2  336  385   39    4\n",
      "  172 4536 1111   17  546   38   13  447    4  192   50   16    6  147\n",
      " 2025   19   14   22    4 1920 4613  469    4   22   71   87   12   16\n",
      "   43  530   38   76   15   13 1247    4   22   17  515   17   12   16\n",
      "  626   18    2    5   62  386   12    8  316    8  106    5    4 2223\n",
      " 5244   16  480   66 3785   33    4  130   12   16   38  619    5   25\n",
      "  124   51   36  135   48   25 1415   33    6   22   12  215   28   77\n",
      "   52    5   14  407   16   82    2    8    4  107  117 5952   15  256\n",
      "    4    2    7 3766    5  723   36   71   43  530  476   26  400  317\n",
      "   46    7    4    2 1029   13  104   88    4  381   15  297   98   32\n",
      " 2071   56   26  141    6  194 7486   18    4  226   22   21  134  476\n",
      "   26  480    5  144   30 5535   18   51   36   28  224   92   25  104\n",
      "    4  226   65   16   38 1334   88   12   16  283    5   16 4472  113\n",
      "  103   32   15   16 5345   19  178   32    0    0    0    0    0    0\n",
      "    0    0    0    0    0    0    0    0    0    0    0    0    0    0\n",
      "    0    0    0    0    0    0    0    0    0    0    0    0    0    0\n",
      "    0    0    0    0]\n"
     ]
    }
   ],
   "source": [
    "print(train_data[0])"
   ]
  },
  {
   "cell_type": "code",
   "execution_count": 9,
   "metadata": {},
   "outputs": [
    {
     "name": "stdout",
     "output_type": "stream",
     "text": [
      "Model: \"sequential_1\"\n",
      "_________________________________________________________________\n",
      "Layer (type)                 Output Shape              Param #   \n",
      "=================================================================\n",
      "embedding_1 (Embedding)      (None, None, 16)          160000    \n",
      "_________________________________________________________________\n",
      "global_average_pooling1d_1 ( (None, 16)                0         \n",
      "_________________________________________________________________\n",
      "dense_1 (Dense)              (None, 16)                272       \n",
      "_________________________________________________________________\n",
      "dense_2 (Dense)              (None, 1)                 17        \n",
      "=================================================================\n",
      "Total params: 160,289\n",
      "Trainable params: 160,289\n",
      "Non-trainable params: 0\n",
      "_________________________________________________________________\n"
     ]
    }
   ],
   "source": [
    "import keras\n",
    "from keras.models import Model\n",
    "from keras.models import Sequential\n",
    "from keras.layers import Dense, Conv1D, MaxPooling2D, Dropout, Activation, Flatten, Embedding, GlobalAveragePooling1D\n",
    "from keras.utils.np_utils import to_categorical\n",
    "from keras.optimizers import SGD\n",
    "from keras.layers.normalization import BatchNormalization\n",
    "from sklearn.model_selection import train_test_split\n",
    "from keras.models import load_model\n",
    "\n",
    "vocab_size = 10000\n",
    "\n",
    "model = keras.Sequential()\n",
    "model.add(Embedding(vocab_size, 16))\n",
    "model.add(GlobalAveragePooling1D())\n",
    "model.add(Dense(16, activation=tf.nn.relu))\n",
    "model.add(Dense(1, activation=tf.nn.sigmoid))\n",
    "\n",
    "model.summary()"
   ]
  },
  {
   "cell_type": "code",
   "execution_count": 10,
   "metadata": {},
   "outputs": [],
   "source": [
    "model.compile(optimizer='adam',\n",
    "              loss='binary_crossentropy',\n",
    "              metrics=['acc'])"
   ]
  },
  {
   "cell_type": "code",
   "execution_count": 11,
   "metadata": {},
   "outputs": [
    {
     "name": "stderr",
     "output_type": "stream",
     "text": [
      "/home/ec2-user/anaconda3/envs/tensorflow2_p36/lib/python3.6/site-packages/tensorflow_core/python/framework/indexed_slices.py:433: UserWarning: Converting sparse IndexedSlices to a dense Tensor of unknown shape. This may consume a large amount of memory.\n",
      "  \"Converting sparse IndexedSlices to a dense Tensor of unknown shape. \"\n"
     ]
    },
    {
     "name": "stdout",
     "output_type": "stream",
     "text": [
      "Train on 15000 samples, validate on 10000 samples\n",
      "Epoch 1/40\n",
      "15000/15000 [==============================] - 1s 89us/step - loss: 0.6920 - acc: 0.5135 - val_loss: 0.6904 - val_acc: 0.5684\n",
      "Epoch 2/40\n",
      "15000/15000 [==============================] - 0s 22us/step - loss: 0.6862 - acc: 0.6527 - val_loss: 0.6811 - val_acc: 0.7107\n",
      "Epoch 3/40\n",
      "15000/15000 [==============================] - 0s 23us/step - loss: 0.6733 - acc: 0.7311 - val_loss: 0.6646 - val_acc: 0.7400\n",
      "Epoch 4/40\n",
      "15000/15000 [==============================] - 0s 23us/step - loss: 0.6510 - acc: 0.7554 - val_loss: 0.6386 - val_acc: 0.7633\n",
      "Epoch 5/40\n",
      "15000/15000 [==============================] - 0s 21us/step - loss: 0.6182 - acc: 0.7857 - val_loss: 0.6038 - val_acc: 0.7605\n",
      "Epoch 6/40\n",
      "15000/15000 [==============================] - 0s 21us/step - loss: 0.5760 - acc: 0.8077 - val_loss: 0.5618 - val_acc: 0.7904\n",
      "Epoch 7/40\n",
      "15000/15000 [==============================] - 0s 21us/step - loss: 0.5283 - acc: 0.8353 - val_loss: 0.5171 - val_acc: 0.8177\n",
      "Epoch 8/40\n",
      "15000/15000 [==============================] - 0s 22us/step - loss: 0.4802 - acc: 0.8526 - val_loss: 0.4752 - val_acc: 0.8321\n",
      "Epoch 9/40\n",
      "15000/15000 [==============================] - 0s 22us/step - loss: 0.4347 - acc: 0.8684 - val_loss: 0.4394 - val_acc: 0.8367\n",
      "Epoch 10/40\n",
      "15000/15000 [==============================] - 0s 22us/step - loss: 0.3951 - acc: 0.8776 - val_loss: 0.4083 - val_acc: 0.8487\n",
      "Epoch 11/40\n",
      "15000/15000 [==============================] - 0s 21us/step - loss: 0.3620 - acc: 0.8850 - val_loss: 0.3839 - val_acc: 0.8535\n",
      "Epoch 12/40\n",
      "15000/15000 [==============================] - 0s 21us/step - loss: 0.3332 - acc: 0.8943 - val_loss: 0.3641 - val_acc: 0.8600\n",
      "Epoch 13/40\n",
      "15000/15000 [==============================] - 0s 21us/step - loss: 0.3098 - acc: 0.8997 - val_loss: 0.3487 - val_acc: 0.8649\n",
      "Epoch 14/40\n",
      "15000/15000 [==============================] - 0s 21us/step - loss: 0.2902 - acc: 0.9043 - val_loss: 0.3369 - val_acc: 0.8672\n",
      "Epoch 15/40\n",
      "15000/15000 [==============================] - 0s 22us/step - loss: 0.2725 - acc: 0.9095 - val_loss: 0.3260 - val_acc: 0.8712\n",
      "Epoch 16/40\n",
      "15000/15000 [==============================] - 0s 22us/step - loss: 0.2568 - acc: 0.9141 - val_loss: 0.3187 - val_acc: 0.8736\n",
      "Epoch 17/40\n",
      "15000/15000 [==============================] - 0s 22us/step - loss: 0.2431 - acc: 0.9196 - val_loss: 0.3118 - val_acc: 0.8748\n",
      "Epoch 18/40\n",
      "15000/15000 [==============================] - 0s 22us/step - loss: 0.2313 - acc: 0.9222 - val_loss: 0.3060 - val_acc: 0.8784\n",
      "Epoch 19/40\n",
      "15000/15000 [==============================] - 0s 23us/step - loss: 0.2194 - acc: 0.9254 - val_loss: 0.3014 - val_acc: 0.8791\n",
      "Epoch 20/40\n",
      "15000/15000 [==============================] - 0s 22us/step - loss: 0.2092 - acc: 0.9301 - val_loss: 0.2982 - val_acc: 0.8807\n",
      "Epoch 21/40\n",
      "15000/15000 [==============================] - 0s 22us/step - loss: 0.1994 - acc: 0.9333 - val_loss: 0.2955 - val_acc: 0.8826\n",
      "Epoch 22/40\n",
      "15000/15000 [==============================] - 0s 24us/step - loss: 0.1902 - acc: 0.9381 - val_loss: 0.2929 - val_acc: 0.8836\n",
      "Epoch 23/40\n",
      "15000/15000 [==============================] - 0s 22us/step - loss: 0.1818 - acc: 0.9422 - val_loss: 0.2912 - val_acc: 0.8837\n",
      "Epoch 24/40\n",
      "15000/15000 [==============================] - 0s 21us/step - loss: 0.1738 - acc: 0.9445 - val_loss: 0.2897 - val_acc: 0.8844\n",
      "Epoch 25/40\n",
      "15000/15000 [==============================] - 0s 23us/step - loss: 0.1666 - acc: 0.9471 - val_loss: 0.2891 - val_acc: 0.8844\n",
      "Epoch 26/40\n",
      "15000/15000 [==============================] - 0s 22us/step - loss: 0.1594 - acc: 0.9497 - val_loss: 0.2886 - val_acc: 0.8848\n",
      "Epoch 27/40\n",
      "15000/15000 [==============================] - 0s 22us/step - loss: 0.1527 - acc: 0.9529 - val_loss: 0.2888 - val_acc: 0.8849\n",
      "Epoch 28/40\n",
      "15000/15000 [==============================] - 0s 22us/step - loss: 0.1466 - acc: 0.9551 - val_loss: 0.2892 - val_acc: 0.8847\n",
      "Epoch 29/40\n",
      "15000/15000 [==============================] - 0s 22us/step - loss: 0.1408 - acc: 0.9570 - val_loss: 0.2903 - val_acc: 0.8847\n",
      "Epoch 30/40\n",
      "15000/15000 [==============================] - 0s 22us/step - loss: 0.1352 - acc: 0.9607 - val_loss: 0.2912 - val_acc: 0.8849\n",
      "Epoch 31/40\n",
      "15000/15000 [==============================] - 0s 24us/step - loss: 0.1299 - acc: 0.9617 - val_loss: 0.2929 - val_acc: 0.8847\n",
      "Epoch 32/40\n",
      "15000/15000 [==============================] - 0s 22us/step - loss: 0.1247 - acc: 0.9627 - val_loss: 0.2947 - val_acc: 0.8836\n",
      "Epoch 33/40\n",
      "15000/15000 [==============================] - 0s 22us/step - loss: 0.1199 - acc: 0.9651 - val_loss: 0.2968 - val_acc: 0.8827\n",
      "Epoch 34/40\n",
      "15000/15000 [==============================] - 0s 25us/step - loss: 0.1154 - acc: 0.9672 - val_loss: 0.2985 - val_acc: 0.8826\n",
      "Epoch 35/40\n",
      "15000/15000 [==============================] - 0s 21us/step - loss: 0.1106 - acc: 0.9695 - val_loss: 0.3007 - val_acc: 0.8844\n",
      "Epoch 36/40\n",
      "15000/15000 [==============================] - 0s 24us/step - loss: 0.1065 - acc: 0.9705 - val_loss: 0.3030 - val_acc: 0.8826\n",
      "Epoch 37/40\n",
      "15000/15000 [==============================] - 0s 22us/step - loss: 0.1024 - acc: 0.9725 - val_loss: 0.3058 - val_acc: 0.8820\n",
      "Epoch 38/40\n",
      "15000/15000 [==============================] - 0s 22us/step - loss: 0.0986 - acc: 0.9737 - val_loss: 0.3088 - val_acc: 0.8822\n",
      "Epoch 39/40\n",
      "15000/15000 [==============================] - 0s 22us/step - loss: 0.0953 - acc: 0.9750 - val_loss: 0.3157 - val_acc: 0.8810\n",
      "Epoch 40/40\n",
      "15000/15000 [==============================] - 0s 23us/step - loss: 0.0918 - acc: 0.9765 - val_loss: 0.3144 - val_acc: 0.8822\n"
     ]
    }
   ],
   "source": [
    "history = model.fit(train_data, train_labels, epochs=40, batch_size=512, validation_split=0.4, verbose=1)"
   ]
  },
  {
   "cell_type": "code",
   "execution_count": 12,
   "metadata": {},
   "outputs": [
    {
     "name": "stdout",
     "output_type": "stream",
     "text": [
      "25000/25000 [==============================] - 1s 28us/step\n",
      "[0.3334373754310608, 0.8715599775314331]\n"
     ]
    }
   ],
   "source": [
    "results = model.evaluate(test_data, test_labels)\n",
    "\n",
    "print(results)"
   ]
  },
  {
   "cell_type": "code",
   "execution_count": 13,
   "metadata": {},
   "outputs": [
    {
     "data": {
      "text/plain": [
       "dict_keys(['val_loss', 'val_acc', 'loss', 'acc'])"
      ]
     },
     "execution_count": 13,
     "metadata": {},
     "output_type": "execute_result"
    }
   ],
   "source": [
    "history_dict = history.history\n",
    "history_dict.keys()"
   ]
  },
  {
   "cell_type": "code",
   "execution_count": 14,
   "metadata": {},
   "outputs": [
    {
     "data": {
      "image/png": "[encoded data removed]",
      "text/plain": [
       "<Figure size 432x432 with 1 Axes>"
      ]
     },
     "metadata": {
      "needs_background": "light"
     },
     "output_type": "display_data"
    }
   ],
   "source": [
    "import matplotlib.pyplot as plt\n",
    "\n",
    "\n",
    "def plotLosses(history): \n",
    "    plt.figure(figsize = (6,6))\n",
    "    plt.plot(history.history['loss'])\n",
    "    plt.plot(history.history['val_loss'], label='Validation loss')\n",
    "    plt.title('Training vs validation loss')\n",
    "    plt.ylabel('Loss')\n",
    "    plt.xlabel('Epoch')\n",
    "    plt.legend(['train', 'validation'], loc='upper left')\n",
    "    plt.show()\n",
    "    \n",
    "plotLosses(history)\n"
   ]
  },
  {
   "cell_type": "code",
   "execution_count": 19,
   "metadata": {},
   "outputs": [
    {
     "name": "stdout",
     "output_type": "stream",
     "text": [
      "Model: \"sequential_3\"\n",
      "_________________________________________________________________\n",
      "Layer (type)                 Output Shape              Param #   \n",
      "=================================================================\n",
      "embedding_3 (Embedding)      (None, None, 16)          160000    \n",
      "_________________________________________________________________\n",
      "global_average_pooling1d_3 ( (None, 16)                0         \n",
      "_________________________________________________________________\n",
      "dense_6 (Dense)              (None, 32)                544       \n",
      "_________________________________________________________________\n",
      "batch_normalization_2 (Batch (None, 32)                128       \n",
      "_________________________________________________________________\n",
      "dense_7 (Dense)              (None, 16)                528       \n",
      "_________________________________________________________________\n",
      "dense_8 (Dense)              (None, 1)                 17        \n",
      "=================================================================\n",
      "Total params: 161,217\n",
      "Trainable params: 161,153\n",
      "Non-trainable params: 64\n",
      "_________________________________________________________________\n"
     ]
    }
   ],
   "source": [
    "vocab_size = 10000\n",
    "\n",
    "model = keras.Sequential()\n",
    "model.add(Embedding(vocab_size, 16))\n",
    "model.add(GlobalAveragePooling1D())\n",
    "#model.add(Conv1D(32,3, activation=tf.nn.relu))\n",
    "model.add(Dense(32, activation=tf.nn.relu))\n",
    "model.add(BatchNormalization())\n",
    "model.add(Dense(16, activation=tf.nn.relu))\n",
    "model.add(Dense(1, activation=tf.nn.sigmoid))\n",
    "\n",
    "model.summary()"
   ]
  },
  {
   "cell_type": "code",
   "execution_count": 21,
   "metadata": {},
   "outputs": [],
   "source": [
    "model.compile(optimizer='adam',\n",
    "              loss='mean_squared_error',\n",
    "              metrics=['acc'])"
   ]
  },
  {
   "cell_type": "code",
   "execution_count": 22,
   "metadata": {
    "scrolled": true
   },
   "outputs": [
    {
     "name": "stderr",
     "output_type": "stream",
     "text": [
      "/home/ec2-user/anaconda3/envs/tensorflow2_p36/lib/python3.6/site-packages/tensorflow_core/python/framework/indexed_slices.py:433: UserWarning: Converting sparse IndexedSlices to a dense Tensor of unknown shape. This may consume a large amount of memory.\n",
      "  \"Converting sparse IndexedSlices to a dense Tensor of unknown shape. \"\n"
     ]
    },
    {
     "name": "stdout",
     "output_type": "stream",
     "text": [
      "Train on 15000 samples, validate on 10000 samples\n",
      "Epoch 1/40\n",
      "15000/15000 [==============================] - 2s 115us/step - loss: 0.2372 - acc: 0.6408 - val_loss: 0.2479 - val_acc: 0.7058\n",
      "Epoch 2/40\n",
      "15000/15000 [==============================] - 0s 26us/step - loss: 0.1688 - acc: 0.8185 - val_loss: 0.2390 - val_acc: 0.6782\n",
      "Epoch 3/40\n",
      "15000/15000 [==============================] - 0s 25us/step - loss: 0.0963 - acc: 0.8888 - val_loss: 0.2242 - val_acc: 0.6692\n",
      "Epoch 4/40\n",
      "15000/15000 [==============================] - 0s 27us/step - loss: 0.0647 - acc: 0.9201 - val_loss: 0.2111 - val_acc: 0.7312\n",
      "Epoch 5/40\n",
      "15000/15000 [==============================] - 0s 26us/step - loss: 0.0472 - acc: 0.9471 - val_loss: 0.1974 - val_acc: 0.8053\n",
      "Epoch 6/40\n",
      "15000/15000 [==============================] - 0s 25us/step - loss: 0.0350 - acc: 0.9636 - val_loss: 0.1835 - val_acc: 0.8483\n",
      "Epoch 7/40\n",
      "15000/15000 [==============================] - 0s 28us/step - loss: 0.0271 - acc: 0.9736 - val_loss: 0.1667 - val_acc: 0.8686\n",
      "Epoch 8/40\n",
      "15000/15000 [==============================] - 0s 26us/step - loss: 0.0223 - acc: 0.9785 - val_loss: 0.1498 - val_acc: 0.8753\n",
      "Epoch 9/40\n",
      "15000/15000 [==============================] - 0s 26us/step - loss: 0.0182 - acc: 0.9825 - val_loss: 0.1366 - val_acc: 0.8631\n",
      "Epoch 10/40\n",
      "15000/15000 [==============================] - 0s 26us/step - loss: 0.0152 - acc: 0.9865 - val_loss: 0.1256 - val_acc: 0.8630\n",
      "Epoch 11/40\n",
      "15000/15000 [==============================] - 0s 26us/step - loss: 0.0125 - acc: 0.9889 - val_loss: 0.1142 - val_acc: 0.8693\n",
      "Epoch 12/40\n",
      "15000/15000 [==============================] - 0s 27us/step - loss: 0.0104 - acc: 0.9910 - val_loss: 0.1079 - val_acc: 0.8649\n",
      "Epoch 13/40\n",
      "15000/15000 [==============================] - 0s 27us/step - loss: 0.0096 - acc: 0.9913 - val_loss: 0.1004 - val_acc: 0.8698\n",
      "Epoch 14/40\n",
      "15000/15000 [==============================] - 0s 26us/step - loss: 0.0086 - acc: 0.9925 - val_loss: 0.0983 - val_acc: 0.8689\n",
      "Epoch 15/40\n",
      "15000/15000 [==============================] - 0s 25us/step - loss: 0.0081 - acc: 0.9925 - val_loss: 0.0967 - val_acc: 0.8686\n",
      "Epoch 16/40\n",
      "15000/15000 [==============================] - 0s 26us/step - loss: 0.0077 - acc: 0.9929 - val_loss: 0.0964 - val_acc: 0.8693\n",
      "Epoch 17/40\n",
      "15000/15000 [==============================] - 0s 27us/step - loss: 0.0069 - acc: 0.9935 - val_loss: 0.0971 - val_acc: 0.8694\n",
      "Epoch 18/40\n",
      "15000/15000 [==============================] - 0s 27us/step - loss: 0.0066 - acc: 0.9937 - val_loss: 0.0985 - val_acc: 0.8675\n",
      "Epoch 19/40\n",
      "15000/15000 [==============================] - 0s 27us/step - loss: 0.0064 - acc: 0.9937 - val_loss: 0.1020 - val_acc: 0.8681\n",
      "Epoch 20/40\n",
      "15000/15000 [==============================] - 0s 27us/step - loss: 0.0059 - acc: 0.9945 - val_loss: 0.1044 - val_acc: 0.8665\n",
      "Epoch 21/40\n",
      "15000/15000 [==============================] - 0s 26us/step - loss: 0.0057 - acc: 0.9947 - val_loss: 0.1060 - val_acc: 0.8671\n",
      "Epoch 22/40\n",
      "15000/15000 [==============================] - 0s 27us/step - loss: 0.0054 - acc: 0.9950 - val_loss: 0.1076 - val_acc: 0.8668\n",
      "Epoch 23/40\n",
      "15000/15000 [==============================] - 0s 27us/step - loss: 0.0052 - acc: 0.9951 - val_loss: 0.1092 - val_acc: 0.8671\n",
      "Epoch 24/40\n",
      "15000/15000 [==============================] - 0s 27us/step - loss: 0.0051 - acc: 0.9951 - val_loss: 0.1122 - val_acc: 0.8650\n",
      "Epoch 25/40\n",
      "15000/15000 [==============================] - 0s 27us/step - loss: 0.0056 - acc: 0.9947 - val_loss: 0.1121 - val_acc: 0.8654\n",
      "Epoch 26/40\n",
      "15000/15000 [==============================] - 0s 26us/step - loss: 0.0061 - acc: 0.9941 - val_loss: 0.1145 - val_acc: 0.8648\n",
      "Epoch 27/40\n",
      "15000/15000 [==============================] - 0s 27us/step - loss: 0.0051 - acc: 0.9953 - val_loss: 0.1161 - val_acc: 0.8630\n",
      "Epoch 28/40\n",
      "15000/15000 [==============================] - 0s 26us/step - loss: 0.0049 - acc: 0.9953 - val_loss: 0.1167 - val_acc: 0.8637\n",
      "Epoch 29/40\n",
      "15000/15000 [==============================] - 0s 28us/step - loss: 0.0049 - acc: 0.9954 - val_loss: 0.1180 - val_acc: 0.8645\n",
      "Epoch 30/40\n",
      "15000/15000 [==============================] - 0s 27us/step - loss: 0.0048 - acc: 0.9954 - val_loss: 0.1191 - val_acc: 0.8625\n",
      "Epoch 31/40\n",
      "15000/15000 [==============================] - 0s 26us/step - loss: 0.0047 - acc: 0.9954 - val_loss: 0.1182 - val_acc: 0.8643\n",
      "Epoch 32/40\n",
      "15000/15000 [==============================] - 0s 27us/step - loss: 0.0047 - acc: 0.9954 - val_loss: 0.1190 - val_acc: 0.8639\n",
      "Epoch 33/40\n",
      "15000/15000 [==============================] - 0s 26us/step - loss: 0.0047 - acc: 0.9954 - val_loss: 0.1190 - val_acc: 0.8632\n",
      "Epoch 34/40\n",
      "15000/15000 [==============================] - 0s 25us/step - loss: 0.0047 - acc: 0.9953 - val_loss: 0.1205 - val_acc: 0.8613\n",
      "Epoch 35/40\n",
      "15000/15000 [==============================] - 0s 26us/step - loss: 0.0047 - acc: 0.9954 - val_loss: 0.1195 - val_acc: 0.8633\n",
      "Epoch 36/40\n",
      "15000/15000 [==============================] - 0s 26us/step - loss: 0.0046 - acc: 0.9954 - val_loss: 0.1226 - val_acc: 0.8605\n",
      "Epoch 37/40\n",
      "15000/15000 [==============================] - 0s 27us/step - loss: 0.0045 - acc: 0.9955 - val_loss: 0.1198 - val_acc: 0.8635\n",
      "Epoch 38/40\n",
      "15000/15000 [==============================] - 0s 28us/step - loss: 0.0044 - acc: 0.9956 - val_loss: 0.1199 - val_acc: 0.8640\n",
      "Epoch 39/40\n",
      "15000/15000 [==============================] - 0s 25us/step - loss: 0.0045 - acc: 0.9956 - val_loss: 0.1202 - val_acc: 0.8634\n",
      "Epoch 40/40\n",
      "15000/15000 [==============================] - 0s 27us/step - loss: 0.0045 - acc: 0.9956 - val_loss: 0.1207 - val_acc: 0.8626\n"
     ]
    }
   ],
   "source": [
    "history = model.fit(train_data, train_labels, \n",
    "                    epochs=40, batch_size=512, validation_split=0.4, verbose=1)"
   ]
  },
  {
   "cell_type": "code",
   "execution_count": 23,
   "metadata": {},
   "outputs": [
    {
     "name": "stdout",
     "output_type": "stream",
     "text": [
      "25000/25000 [==============================] - 1s 29us/step\n",
      "[0.13285938495462063, 0.8482400178909302]\n"
     ]
    }
   ],
   "source": [
    "results = model.evaluate(test_data, test_labels)\n",
    "\n",
    "print(results)"
   ]
  },
  {
   "cell_type": "code",
   "execution_count": 24,
   "metadata": {},
   "outputs": [
    {
     "data": {
      "image/png": "[encoded data removed]",
      "text/plain": [
       "<Figure size 432x432 with 1 Axes>"
      ]
     },
     "metadata": {
      "needs_background": "light"
     },
     "output_type": "display_data"
    }
   ],
   "source": [
    "import matplotlib.pyplot as plt\n",
    "\n",
    "\n",
    "def plotLosses(history): \n",
    "    plt.figure(figsize = (6,6))\n",
    "    plt.plot(history.history['loss'])\n",
    "    plt.plot(history.history['val_loss'], label='Validation loss')\n",
    "    plt.title('Training vs validation loss')\n",
    "    plt.ylabel('Loss')\n",
    "    plt.xlabel('Epoch')\n",
    "    plt.legend(['train', 'validation'], loc='upper left')\n",
    "    plt.show()\n",
    "    \n",
    "plotLosses(history)\n"
   ]
  }
 ],
 "metadata": {
  "kernelspec": {
   "display_name": "conda_tensorflow2_p36",
   "language": "python",
   "name": "conda_tensorflow2_p36"
  },
  "language_info": {
   "codemirror_mode": {
    "name": "ipython",
    "version": 3
   },
   "file_extension": ".py",
   "mimetype": "text/x-python",
   "name": "python",
   "nbconvert_exporter": "python",
   "pygments_lexer": "ipython3",
   "version": "3.6.10"
  }
 },
 "nbformat": 4,
 "nbformat_minor": 4
}
